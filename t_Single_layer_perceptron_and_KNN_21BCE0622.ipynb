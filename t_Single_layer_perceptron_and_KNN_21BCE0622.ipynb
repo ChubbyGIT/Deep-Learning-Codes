{
  "nbformat": 4,
  "nbformat_minor": 0,
  "metadata": {
    "colab": {
      "provenance": []
    },
    "kernelspec": {
      "name": "python3",
      "display_name": "Python 3"
    },
    "language_info": {
      "name": "python"
    }
  },
  "cells": [
    {
      "cell_type": "code",
      "execution_count": null,
      "metadata": {
        "id": "3IGjwACJ2APz"
      },
      "outputs": [],
      "source": [
        "#21BCE0622\n",
        "import numpy as np\n",
        "from sklearn import datasets\n",
        "from sklearn.model_selection import train_test_split\n",
        "\n",
        "# Load the Iris dataset\n",
        "iris = datasets.load_iris()\n",
        "X = iris.data  # Features\n",
        "y = iris.target  # Labels\n",
        "\n",
        "# Splitting into training and testing sets\n",
        "X_train, X_test, y_train, y_test = train_test_split(X, y, test_size=0.3, random_state=42)\n"
      ]
    },
    {
      "cell_type": "code",
      "source": [
        "class SingleLayerPerceptron:\n",
        "    def __init__(self, learning_rate=0.01, epochs=1000):\n",
        "        self.learning_rate = learning_rate\n",
        "        self.epochs = epochs\n",
        "        self.weights = None\n",
        "        self.bias = None\n",
        "\n",
        "    # Step activation function\n",
        "    def step_function(self, x):\n",
        "        return np.where(x >= 0, 1, 0)\n",
        "\n",
        "    # Fit the model\n",
        "    def fit(self, X, y):\n",
        "        # Initialize weights and bias\n",
        "        n_samples, n_features = X.shape\n",
        "        self.weights = np.random.rand(n_features)\n",
        "        self.bias = 0\n",
        "\n",
        "        # Gradient Descent\n",
        "        for _ in range(self.epochs):\n",
        "            for idx, x_i in enumerate(X):\n",
        "                linear_output = np.dot(x_i, self.weights) + self.bias\n",
        "                y_pred = self.step_function(linear_output)\n",
        "\n",
        "                # Update rule: w = w + lr * (y - y_pred) * x\n",
        "                update = self.learning_rate * (y[idx] - y_pred)\n",
        "                self.weights += update * x_i\n",
        "                self.bias += update\n",
        "\n",
        "    # Predict function\n",
        "    def predict(self, X):\n",
        "        linear_output = np.dot(X, self.weights) + self.bias\n",
        "        y_pred = self.step_function(linear_output)\n",
        "        return y_pred\n"
      ],
      "metadata": {
        "id": "HI436T_W2B0c"
      },
      "execution_count": null,
      "outputs": []
    },
    {
      "cell_type": "code",
      "source": [
        "class KNN:\n",
        "    def __init__(self, k=3):\n",
        "        self.k = k\n",
        "\n",
        "    # Fit the model (in KNN we just store the training data)\n",
        "    def fit(self, X, y):\n",
        "        self.X_train = X\n",
        "        self.y_train = y\n",
        "\n",
        "    # Euclidean distance function\n",
        "    def euclidean_distance(self, x1, x2):\n",
        "        return np.sqrt(np.sum((x1 - x2)**2))\n",
        "\n",
        "    # Predict function\n",
        "    def predict(self, X):\n",
        "        predictions = [self._predict(x) for x in X]\n",
        "        return np.array(predictions)\n",
        "\n",
        "    def _predict(self, x):\n",
        "        # Compute distances between x and all training examples\n",
        "        distances = [self.euclidean_distance(x, x_train) for x_train in self.X_train]\n",
        "\n",
        "        # Sort by distance and get the closest k neighbors\n",
        "        k_indices = np.argsort(distances)[:self.k]\n",
        "        k_nearest_labels = [self.y_train[i] for i in k_indices]\n",
        "\n",
        "        # Majority vote, most common class label\n",
        "        most_common = np.bincount(k_nearest_labels).argmax()\n",
        "        return most_common\n"
      ],
      "metadata": {
        "id": "EMucyDbG2DlI"
      },
      "execution_count": null,
      "outputs": []
    },
    {
      "cell_type": "code",
      "source": [
        "# For SLP\n",
        "slp = SingleLayerPerceptron(learning_rate=0.01, epochs=1000)\n",
        "slp.fit(X_train, y_train)\n",
        "y_pred_slp = slp.predict(X_test)\n",
        "accuracy_slp = np.sum(y_pred_slp == y_test) / len(y_test)\n",
        "print(f\"Single Layer Perceptron Accuracy: {accuracy_slp * 100:.2f}%\")\n",
        "\n",
        "# For KNN\n",
        "knn = KNN(k=3)\n",
        "knn.fit(X_train, y_train)\n",
        "y_pred_knn = knn.predict(X_test)\n",
        "accuracy_knn = np.sum(y_pred_knn == y_test) / len(y_test)\n",
        "print(f\"K-Nearest Neighbors Accuracy: {accuracy_knn * 100:.2f}%\")\n"
      ],
      "metadata": {
        "colab": {
          "base_uri": "https://localhost:8080/"
        },
        "id": "IqivVJvo2FIk",
        "outputId": "d96e91af-ec6c-406f-b1d2-ac7572d4952f"
      },
      "execution_count": null,
      "outputs": [
        {
          "output_type": "stream",
          "name": "stdout",
          "text": [
            "Single Layer Perceptron Accuracy: 28.89%\n",
            "K-Nearest Neighbors Accuracy: 100.00%\n"
          ]
        }
      ]
    }
  ]
}