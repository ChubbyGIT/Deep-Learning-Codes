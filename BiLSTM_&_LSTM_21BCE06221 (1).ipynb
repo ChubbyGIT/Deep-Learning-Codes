{
  "nbformat": 4,
  "nbformat_minor": 0,
  "metadata": {
    "colab": {
      "provenance": []
    },
    "kernelspec": {
      "name": "python3",
      "display_name": "Python 3"
    },
    "language_info": {
      "name": "python"
    }
  },
  "cells": [
    {
      "cell_type": "code",
      "execution_count": null,
      "metadata": {
        "colab": {
          "base_uri": "https://localhost:8080/"
        },
        "id": "N_1huad-saMz",
        "outputId": "7fe0a121-e5cf-4ea1-bbf7-776baa353c94"
      },
      "outputs": [
        {
          "output_type": "stream",
          "name": "stderr",
          "text": [
            "/usr/local/lib/python3.10/dist-packages/keras/src/layers/rnn/bidirectional.py:107: UserWarning: Do not pass an `input_shape`/`input_dim` argument to a layer. When using Sequential models, prefer using an `Input(shape)` object as the first layer in the model instead.\n",
            "  super().__init__(**kwargs)\n"
          ]
        },
        {
          "output_type": "stream",
          "name": "stdout",
          "text": [
            "BiLSTM predicted next number in sequence: 5.2844977378845215\n"
          ]
        },
        {
          "output_type": "stream",
          "name": "stderr",
          "text": [
            "/usr/local/lib/python3.10/dist-packages/keras/src/layers/rnn/rnn.py:204: UserWarning: Do not pass an `input_shape`/`input_dim` argument to a layer. When using Sequential models, prefer using an `Input(shape)` object as the first layer in the model instead.\n",
            "  super().__init__(**kwargs)\n"
          ]
        },
        {
          "output_type": "stream",
          "name": "stdout",
          "text": [
            "LSTM predicted next number in sequence: 9.676758766174316\n"
          ]
        }
      ],
      "source": [
        "# Import necessary libraries\n",
        "#21BCE0622\n",
        "import numpy as np\n",
        "from tensorflow.keras.models import Sequential\n",
        "from tensorflow.keras.layers import Bidirectional, LSTM, Dense\n",
        "\n",
        "# Create sample data (sequence of numbers)\n",
        "data = np.array([i for i in range(50)])\n",
        "\n",
        "# Prepare the dataset function\n",
        "def create_dataset(data, time_steps=3):\n",
        "    X, y = [], []\n",
        "    for i in range(len(data) - time_steps):\n",
        "        X.append(data[i:(i + time_steps)])\n",
        "        y.append(data[i + time_steps])\n",
        "    return np.array(X), np.array(y)\n",
        "\n",
        "# Same dataset preparation for both models\n",
        "time_steps = 3\n",
        "X, y = create_dataset(data, time_steps)\n",
        "\n",
        "# Reshape input to be [samples, time steps, features]\n",
        "X = X.reshape(X.shape[0], X.shape[1], 1)\n",
        "\n",
        "# ====================================\n",
        "# BiLSTM Model\n",
        "# ====================================\n",
        "# Build the BiLSTM model\n",
        "bilstm_model = Sequential()\n",
        "bilstm_model.add(Bidirectional(LSTM(50, activation='relu'), input_shape=(time_steps, 1)))\n",
        "bilstm_model.add(Dense(1))\n",
        "\n",
        "# Compile the BiLSTM model\n",
        "bilstm_model.compile(optimizer='adam', loss='mse')\n",
        "\n",
        "# Train the BiLSTM model\n",
        "bilstm_model.fit(X, y, epochs=2, verbose=0)\n",
        "\n",
        "# Test the BiLSTM model with new data\n",
        "test_input_bilstm = np.array([47, 48, 49]).reshape((1, time_steps, 1))\n",
        "predicted_bilstm = bilstm_model.predict(test_input_bilstm, verbose=0)\n",
        "\n",
        "print(f\"BiLSTM predicted next number in sequence: {predicted_bilstm[0][0]}\")\n",
        "\n",
        "# ====================================\n",
        "# LSTM Model\n",
        "# ====================================\n",
        "# Build the LSTM model\n",
        "lstm_model = Sequential()\n",
        "lstm_model.add(LSTM(50, activation='relu', input_shape=(time_steps, 1)))\n",
        "lstm_model.add(Dense(1))\n",
        "\n",
        "# Compile the LSTM model\n",
        "lstm_model.compile(optimizer='adam', loss='mse')\n",
        "\n",
        "# Train the LSTM model\n",
        "lstm_model.fit(X, y, epochs=1, verbose=0)\n",
        "\n",
        "# Test the LSTM model with new data\n",
        "test_input_lstm = np.array([47, 48, 49]).reshape((1, time_steps, 1))\n",
        "predicted_lstm = lstm_model.predict(test_input_lstm, verbose=0)\n",
        "\n",
        "print(f\"LSTM predicted next number in sequence: {predicted_lstm[0][0]}\")\n"
      ]
    },
    {
      "cell_type": "code",
      "source": [
        "# Test the BiLSTM model with new data (e.g., [46, 47, 48] to predict 49)\n",
        "test_input_bilstm = np.array([46, 47, 48]).reshape((1, time_steps, 1))\n",
        "predicted_bilstm = bilstm_model.predict(test_input_bilstm, verbose=0)\n",
        "\n",
        "print(f\"BiLSTM predicted next number in sequence: {predicted_bilstm[0][0]}\")\n",
        "print(f\"Actual next number in sequence: {data[49]}\")\n",
        "\n",
        "# Test the LSTM model with new data (e.g., [46, 47, 48] to predict 49)\n",
        "test_input_lstm = np.array([46, 47, 48]).reshape((1, time_steps, 1))\n",
        "predicted_lstm = lstm_model.predict(test_input_lstm, verbose=0)\n",
        "\n",
        "print(f\"LSTM predicted next number in sequence: {predicted_lstm[0][0]}\")\n",
        "print(f\"Actual next number in sequence: {data[49]}\")\n"
      ],
      "metadata": {
        "colab": {
          "base_uri": "https://localhost:8080/"
        },
        "id": "BNUuNz7ae575",
        "outputId": "91a1948c-2d58-44b8-93c6-51dba7ff5c36"
      },
      "execution_count": null,
      "outputs": [
        {
          "output_type": "stream",
          "name": "stdout",
          "text": [
            "BiLSTM predicted next number in sequence: 5.159120559692383\n",
            "Actual next number in sequence: 49\n",
            "LSTM predicted next number in sequence: 9.471647262573242\n",
            "Actual next number in sequence: 49\n"
          ]
        }
      ]
    }
  ]
}