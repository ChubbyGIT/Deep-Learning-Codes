{
  "nbformat": 4,
  "nbformat_minor": 0,
  "metadata": {
    "colab": {
      "provenance": []
    },
    "kernelspec": {
      "name": "python3",
      "display_name": "Python 3"
    },
    "language_info": {
      "name": "python"
    }
  },
  "cells": [
    {
      "cell_type": "code",
      "execution_count": null,
      "metadata": {
        "id": "zf6hu2FWqRTk",
        "colab": {
          "base_uri": "https://localhost:8080/"
        },
        "outputId": "cb721f49-cfe4-4a82-9000-1e4d4f4ec2bb"
      },
      "outputs": [
        {
          "output_type": "stream",
          "name": "stderr",
          "text": [
            "/usr/local/lib/python3.10/dist-packages/keras/src/layers/rnn/rnn.py:204: UserWarning: Do not pass an `input_shape`/`input_dim` argument to a layer. When using Sequential models, prefer using an `Input(shape)` object as the first layer in the model instead.\n",
            "  super().__init__(**kwargs)\n"
          ]
        },
        {
          "output_type": "stream",
          "name": "stdout",
          "text": [
            "Predicted next number in sequence: 2.3394439220428467\n"
          ]
        }
      ],
      "source": [
        "# Import necessary libraries\n",
        "#21BCE0622\n",
        "import numpy as np\n",
        "from tensorflow.keras.models import Sequential\n",
        "from tensorflow.keras.layers import LSTM, Dense\n",
        "\n",
        "# Create sample data (sequence of numbers)\n",
        "data = np.array([i for i in range(50)])\n",
        "\n",
        "# Prepare the dataset\n",
        "def create_dataset(data, time_steps=3):\n",
        "    X, y = [], []\n",
        "    for i in range(len(data) - time_steps):\n",
        "        X.append(data[i:(i + time_steps)])\n",
        "        y.append(data[i + time_steps])\n",
        "    return np.array(X), np.array(y)\n",
        "\n",
        "time_steps = 3\n",
        "X, y = create_dataset(data, time_steps)\n",
        "\n",
        "# Reshape input to be [samples, time steps, features]\n",
        "X = X.reshape(X.shape[0], X.shape[1], 1)\n",
        "\n",
        "# Build the LSTM model\n",
        "model = Sequential()\n",
        "model.add(LSTM(50, activation='relu', input_shape=(time_steps, 1)))\n",
        "model.add(Dense(1))\n",
        "\n",
        "# Compile the model\n",
        "model.compile(optimizer='adam', loss='mse')\n",
        "\n",
        "# Train the model\n",
        "model.fit(X, y, epochs=1, verbose=0)\n",
        "\n",
        "# Test the model with new data\n",
        "test_input = np.array([47, 48, 49]).reshape((1, time_steps, 1))\n",
        "predicted = model.predict(test_input, verbose=0)\n",
        "\n",
        "print(f\"Predicted next number in sequence: {predicted[0][0]}\")\n"
      ]
    }
  ]
}